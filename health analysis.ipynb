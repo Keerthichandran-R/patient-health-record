{
 "cells": [
  {
   "cell_type": "code",
   "execution_count": 1,
   "id": "1c042438-b31b-4632-b673-2b0093f6e689",
   "metadata": {},
   "outputs": [
    {
     "name": "stdout",
     "output_type": "stream",
     "text": [
      "🏥 First 5 Patient Records:\n",
      "   PatientID   Name  Age  Gender       Symptom       Doctor   VisitDate  \\\n",
      "0     P1000  Aarav   50    Male          Cold   Dr. Ramesh  2025-07-01   \n",
      "1     P1001   Diya   39    Male          Cold     Dr. Anil  2025-07-02   \n",
      "2     P1002  Kabir   35  Female  Stomach Ache  Dr. Shalini  2025-07-03   \n",
      "3     P1003  Meera   51  Female      Headache   Dr. Ramesh  2025-07-04   \n",
      "4     P1004  Rohan   37  Female  Stomach Ache     Dr. Anil  2025-07-05   \n",
      "\n",
      "         Diagnosis  FeesPaid  \n",
      "0      Common Cold       500  \n",
      "1   Normal Checkup       300  \n",
      "2   Normal Checkup       600  \n",
      "3              Flu       400  \n",
      "4  Viral Infection       400  \n",
      "\n",
      "📊 Average Age: 41.8 years\n",
      "👥 Gender Distribution:\n",
      "Gender\n",
      "Male      17\n",
      "Female    13\n",
      "Name: count, dtype: int64\n",
      "\n",
      "😷 Common Symptoms:\n",
      " Symptom\n",
      "Cold            7\n",
      "Headache        7\n",
      "Fatigue         4\n",
      "Stomach Ache    3\n",
      "Body Pain       3\n",
      "Name: count, dtype: int64\n",
      "\n",
      "👨‍⚕️ Patients Seen Per Doctor:\n",
      " Doctor\n",
      "Dr. Anil       10\n",
      "Dr. Ramesh      8\n",
      "Dr. Priya       8\n",
      "Dr. Shalini     4\n",
      "Name: count, dtype: int64\n",
      "\n",
      "💰 Total Revenue Collected: ₹13400\n"
     ]
    }
   ],
   "source": [
    "import pandas as pd\n",
    "\n",
    "# Load patient data\n",
    "df = pd.read_csv(\"patient_records.csv\")\n",
    "\n",
    "print(\"🏥 First 5 Patient Records:\\n\", df.head())\n",
    "\n",
    "# Basic stats\n",
    "print(f\"\\n📊 Average Age: {df['Age'].mean():.1f} years\")\n",
    "print(f\"👥 Gender Distribution:\\n{df['Gender'].value_counts()}\")\n",
    "\n",
    "# Common symptoms\n",
    "print(\"\\n😷 Common Symptoms:\\n\", df['Symptom'].value_counts().head(5))\n",
    "\n",
    "# Doctor workload\n",
    "print(\"\\n👨‍⚕️ Patients Seen Per Doctor:\\n\", df['Doctor'].value_counts())\n",
    "\n",
    "# Revenue analysis\n",
    "print(f\"\\n💰 Total Revenue Collected: ₹{df['FeesPaid'].sum()}\")\n"
   ]
  },
  {
   "cell_type": "code",
   "execution_count": null,
   "id": "a843ec9b-b4d5-49cb-a1ee-36930c011b0c",
   "metadata": {},
   "outputs": [],
   "source": []
  }
 ],
 "metadata": {
  "kernelspec": {
   "display_name": "Python 3 (ipykernel)",
   "language": "python",
   "name": "python3"
  },
  "language_info": {
   "codemirror_mode": {
    "name": "ipython",
    "version": 3
   },
   "file_extension": ".py",
   "mimetype": "text/x-python",
   "name": "python",
   "nbconvert_exporter": "python",
   "pygments_lexer": "ipython3",
   "version": "3.11.7"
  }
 },
 "nbformat": 4,
 "nbformat_minor": 5
}
